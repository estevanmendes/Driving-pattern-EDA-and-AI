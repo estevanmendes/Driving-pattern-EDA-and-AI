{
 "cells": [
  {
   "attachments": {},
   "cell_type": "markdown",
   "metadata": {},
   "source": [
    "Lybraries"
   ]
  },
  {
   "cell_type": "code",
   "execution_count": null,
   "metadata": {},
   "outputs": [],
   "source": [
    "import pandas as pd\n",
    "import numpy as np\n",
    "import matplotlib.pyplot as plt\n",
    "import seaborn as sns\n",
    "from scipy import signal\n"
   ]
  },
  {
   "attachments": {},
   "cell_type": "markdown",
   "metadata": {},
   "source": [
    "### EDA"
   ]
  },
  {
   "cell_type": "code",
   "execution_count": null,
   "metadata": {},
   "outputs": [],
   "source": [
    "train_path='data/test_motion_data.csv'\n",
    "test_path='data/train_motion_data.csv'"
   ]
  },
  {
   "attachments": {},
   "cell_type": "markdown",
   "metadata": {},
   "source": [
    "#### Train data"
   ]
  },
  {
   "cell_type": "code",
   "execution_count": null,
   "metadata": {},
   "outputs": [],
   "source": [
    "train_data=pd.read_csv(train_path)\n",
    "train_data.head(1)"
   ]
  },
  {
   "cell_type": "code",
   "execution_count": null,
   "metadata": {},
   "outputs": [],
   "source": [
    "train_data.describe"
   ]
  },
  {
   "cell_type": "code",
   "execution_count": null,
   "metadata": {},
   "outputs": [],
   "source": [
    "train_data.isna().sum()"
   ]
  },
  {
   "cell_type": "code",
   "execution_count": null,
   "metadata": {},
   "outputs": [],
   "source": [
    "train_data=train_data.sort_values(by='Timestamp')"
   ]
  },
  {
   "cell_type": "code",
   "execution_count": null,
   "metadata": {},
   "outputs": [],
   "source": [
    "train_data.Timestamp.unique().shape"
   ]
  },
  {
   "attachments": {},
   "cell_type": "markdown",
   "metadata": {},
   "source": [
    "There are roughly 2 measurements per second"
   ]
  },
  {
   "cell_type": "code",
   "execution_count": null,
   "metadata": {},
   "outputs": [],
   "source": [
    "train_data.info()"
   ]
  },
  {
   "cell_type": "code",
   "execution_count": null,
   "metadata": {},
   "outputs": [],
   "source": [
    "train_data.Timestamp.value_counts().describe()"
   ]
  },
  {
   "cell_type": "markdown",
   "metadata": {},
   "source": [
    "It proves that there is not a single timestamp that is replicated many times."
   ]
  },
  {
   "cell_type": "code",
   "execution_count": null,
   "metadata": {},
   "outputs": [],
   "source": [
    "train_data.columns"
   ]
  },
  {
   "cell_type": "code",
   "execution_count": null,
   "metadata": {},
   "outputs": [],
   "source": [
    "train_data['Timestamp']=train_data['Timestamp'].astype('int')\n",
    "\n",
    "train_data['Class']=train_data['Class'].astype('category')\n",
    "train_data['class_code']=train_data['Class'].cat.codes"
   ]
  },
  {
   "cell_type": "code",
   "execution_count": null,
   "metadata": {},
   "outputs": [],
   "source": [
    "var_columns=['AccX','AccY','AccZ','GyroX','GyroY','GyroZ']\n",
    "label_columns=['class_code','Class']"
   ]
  },
  {
   "cell_type": "code",
   "execution_count": null,
   "metadata": {},
   "outputs": [],
   "source": [
    "index=(train_data.Timestamp.value_counts()>1).index\n",
    "measument1=train_data.set_index(train_data.Timestamp).drop_duplicates(keep='first',subset='Timestamp').loc[index,var_columns]\n",
    "measument2=train_data.set_index(train_data.Timestamp).drop_duplicates(keep='last',subset='Timestamp').loc[index,var_columns]\n",
    "diff=measument1-measument2\n",
    "fig,axes=plt.subplots(1,len(var_columns),figsize=(10,6))\n",
    "for column,ax in zip(var_columns,axes.flatten()):    \n",
    "    sns.boxplot(data=diff,y=column,ax=ax)\n",
    "plt.tight_layout()"
   ]
  },
  {
   "attachments": {},
   "cell_type": "markdown",
   "metadata": {},
   "source": [
    "There are a lot of outliers, e.i., There is many measuments in the same timestamp that are desagreeing badly. However, it might be due to is amplitude. Then lets take a look in the boxplot normalized. "
   ]
  },
  {
   "cell_type": "code",
   "execution_count": null,
   "metadata": {},
   "outputs": [],
   "source": [
    "index=(train_data.Timestamp.value_counts()>1).index\n",
    "measument1=train_data.set_index(train_data.Timestamp).drop_duplicates(keep='first',subset='Timestamp').loc[index,var_columns]\n",
    "measument2=train_data.set_index(train_data.Timestamp).drop_duplicates(keep='last',subset='Timestamp').loc[index,var_columns]\n",
    "diff=(measument1-measument2)/0.5*(measument2+measument1)\n",
    "fig,axes=plt.subplots(1,len(var_columns),figsize=(10,6))\n",
    "for column,ax in zip(var_columns,axes.flatten()):    \n",
    "    sns.boxplot(data=diff,y=column,ax=ax)\n",
    "plt.tight_layout()"
   ]
  },
  {
   "attachments": {},
   "cell_type": "markdown",
   "metadata": {},
   "source": [
    "The gyroscope data is not desagreeing much. But, the accelaration that It massive desagreement in some measuments. \n",
    " \n"
   ]
  },
  {
   "cell_type": "code",
   "execution_count": null,
   "metadata": {},
   "outputs": [],
   "source": [
    "index=(train_data.Timestamp.value_counts()>1).index\n",
    "measument1=train_data.set_index(train_data.Timestamp).drop_duplicates(keep='first',subset='Timestamp').loc[index,var_columns]\n",
    "measument2=train_data.set_index(train_data.Timestamp).drop_duplicates(keep='last',subset='Timestamp').loc[index,var_columns]\n",
    "diff=(measument1-measument2)/0.5*(measument2+measument1)\n",
    "diff=diff.reset_index().merge(train_data.drop_duplicates('Timestamp')[['Timestamp','Class']],right_on='Timestamp',left_on='index')\n",
    "used_columns=[column for column in var_columns if 'Acc' in column]\n",
    "fig,axes=plt.subplots(1,len(used_columns),figsize=(10,6))\n",
    "for column,ax in zip(used_columns,axes.flatten()):\n",
    "    sns.boxplot(data=diff,y=column,ax=ax,x='Class')\n",
    "plt.tight_layout()"
   ]
  },
  {
   "attachments": {},
   "cell_type": "markdown",
   "metadata": {},
   "source": [
    "level of agreeament\n",
    "\n",
    "[1]Bland, J. Martin, and DouglasG Altman. \"Statistical methods for assessing agreement between two methods of clinical measurement.\" The lancet 327.8476 (1986): 307-310.\n"
   ]
  },
  {
   "cell_type": "code",
   "execution_count": null,
   "metadata": {},
   "outputs": [],
   "source": [
    "index=(train_data.Timestamp.value_counts()>1).index\n",
    "measument1=train_data.set_index(train_data.Timestamp).drop_duplicates(keep='first',subset='Timestamp').loc[index,var_columns]\n",
    "measument2=train_data.set_index(train_data.Timestamp).drop_duplicates(keep='last',subset='Timestamp').loc[index,var_columns]\n",
    "diff=measument1-measument2\n",
    "mean=(measument1+measument2)*0.5\n",
    "used_columns=[column for column in var_columns if 'Acc' in column]\n",
    "fig,axes=plt.subplots(len(used_columns),1,figsize=(10,6),sharex=True)\n",
    "for column,ax in zip(used_columns,axes.flatten()):    \n",
    "    ax.scatter(x=mean[column],y=diff[column])\n",
    "    ax.hlines(np.mean(diff[column])+2*np.std(diff[column]),mean[used_columns].min().min(),mean[used_columns].max().max(),linestyles='dashed',color='black')\n",
    "    ax.hlines(np.mean(diff[column])-2*np.std(diff[column]),mean[used_columns].min().min(),mean[used_columns].max().max(),linestyles='dashed',color='black')\n",
    "plt.tight_layout()\n"
   ]
  },
  {
   "attachments": {},
   "cell_type": "markdown",
   "metadata": {},
   "source": [
    "Even though, the data are quite odd and show significant different, Using [1] one might argui that both data agree.\n",
    "\n",
    "Also, With this it seems that there is not a specific range where the data desagree more.\n",
    "\n",
    "Since both measures may have differnt signs I will be taken the mean of its module, I wonder if there is some behaviour hidden due it. "
   ]
  },
  {
   "cell_type": "code",
   "execution_count": null,
   "metadata": {},
   "outputs": [],
   "source": [
    "index=(train_data.Timestamp.value_counts()>1).index\n",
    "measument1=train_data.set_index(train_data.Timestamp).drop_duplicates(keep='first',subset='Timestamp').loc[index,var_columns]\n",
    "measument2=train_data.set_index(train_data.Timestamp).drop_duplicates(keep='last',subset='Timestamp').loc[index,var_columns]\n",
    "diff=measument1-measument2\n",
    "mean=(np.abs(measument1)+np.abs(measument2))*0.5\n",
    "used_columns=[column for column in var_columns if 'Acc' in column]\n",
    "fig,axes=plt.subplots(len(used_columns),1,figsize=(10,6),sharex=True)\n",
    "for column,ax in zip(used_columns,axes.flatten()):    \n",
    "    ax.scatter(x=mean[column],y=diff[column])\n",
    "\n",
    "plt.tight_layout()\n"
   ]
  },
  {
   "attachments": {},
   "cell_type": "markdown",
   "metadata": {},
   "source": [
    "Adding new features."
   ]
  },
  {
   "cell_type": "code",
   "execution_count": null,
   "metadata": {},
   "outputs": [],
   "source": [
    "train_data['Acc_mod']=0.5*(train_data['AccX']**2+train_data['AccY']**2+train_data['AccZ']**2)\n",
    "var_columns.append('Acc_mod')"
   ]
  },
  {
   "attachments": {},
   "cell_type": "markdown",
   "metadata": {},
   "source": [
    "Dataset balance"
   ]
  },
  {
   "cell_type": "code",
   "execution_count": null,
   "metadata": {},
   "outputs": [],
   "source": [
    "train_data['Class'].value_counts(normalize=True).plot(kind='bar')"
   ]
  },
  {
   "attachments": {},
   "cell_type": "markdown",
   "metadata": {},
   "source": [
    "Data aumentation"
   ]
  },
  {
   "cell_type": "code",
   "execution_count": null,
   "metadata": {},
   "outputs": [],
   "source": [
    "missing_seconds=set(train_data['Timestamp'].unique()).difference(set(range(train_data['Timestamp'].min(),train_data['Timestamp'].max()+1)))\n",
    "missing_seconds"
   ]
  },
  {
   "attachments": {},
   "cell_type": "markdown",
   "metadata": {},
   "source": [
    "With this we ensure the signal continuity"
   ]
  },
  {
   "attachments": {},
   "cell_type": "markdown",
   "metadata": {},
   "source": [
    "Bellow, it has been created some code for fixing some possible descontinuity"
   ]
  },
  {
   "cell_type": "code",
   "execution_count": null,
   "metadata": {},
   "outputs": [],
   "source": [
    "avaible_seconds=train_data.Timestamp.unique()\n",
    "\n",
    "for second in missing_seconds:\n",
    "    new_index=len(train_data)+1\n",
    "    train_data.loc[new_index,['Timestamp']]=[second]\n",
    "    train_data.loc[new_index,var_columns]=[np.nan]*len(var_columns)\n",
    "   \n",
    "    for offset in range(1,11):\n",
    "        filled=False\n",
    "        if second-offset in avaible_seconds:\n",
    "            train_data.loc[new_index,label_columns]=train_data.drop_duplicates('Timestamp').set_index('Timestamp').loc[second-offset,label_columns]\n",
    "            filled=True\n",
    "            break\n",
    "        elif second+offset in avaible_seconds:\n",
    "            train_data.loc[new_index,label_columns]=train_data.drop_duplicates('Timestamp').set_index('Timestamp').loc[second+offset,label_columns]\n",
    "            filled=True\n",
    "            break\n",
    "\n",
    "    if not filled: print('Method did not work')\n",
    "    train_data.loc[new_index,label_columns]=[np.nan]*len(label_columns)\n",
    "    \n",
    "train_data=train_data.sort_values('Timestamp').reset_index(drop=True)\n",
    "train_data[var_columns]=train_data[var_columns].interpolate(method='polynomial',order=5)[var_columns]=train_data[var_columns].interpolate(method='linear')"
   ]
  },
  {
   "attachments": {},
   "cell_type": "markdown",
   "metadata": {},
   "source": [
    "Observing the data as a signal"
   ]
  },
  {
   "cell_type": "code",
   "execution_count": null,
   "metadata": {},
   "outputs": [],
   "source": [
    "train_data['Class'].map({'SLOW':'green','NORMAL':'blue','AGGRESSIVE':'red'}).value_counts()"
   ]
  },
  {
   "cell_type": "code",
   "execution_count": null,
   "metadata": {},
   "outputs": [],
   "source": [
    "fig,axes=plt.subplots(len(var_columns),1,figsize=(8,3*len(var_columns)))\n",
    "\n",
    "for ax,column in zip (axes.flatten(),var_columns):\n",
    "    grouped=train_data.groupby('Class')\n",
    "    color={'SLOW':'green','NORMAL':'blue','AGGRESSIVE':'red'}\n",
    "    for key,group in grouped:\n",
    "        group.plot(ax=ax,x='Timestamp',y=column,label=key,color=color[key])\n",
    "    ax.set_title(column)\n",
    "plt.tight_layout()"
   ]
  },
  {
   "attachments": {},
   "cell_type": "markdown",
   "metadata": {},
   "source": [
    "FFT"
   ]
  },
  {
   "cell_type": "code",
   "execution_count": null,
   "metadata": {},
   "outputs": [],
   "source": [
    "def fourier_analysis(data,fft_ax,psd_ax,prefix=''):\n",
    "    fft=np.fft.fft(data)\n",
    "    freq=np.fft.fftfreq(len(data),d=1)\n",
    "\n",
    "    fft_ax.plot(freq,fft.real,color='red',alpha=0.5,label='real')\n",
    "    fft_ax.plot(freq,fft.imag,color='blue',alpha=0.6,label='imag')\n",
    "    fft_ax.set_xlim(left=0)\n",
    "    fft_ax.set_title(prefix+' FFT')\n",
    "    fft_ax.legend()\n",
    "    psd=(1/len(data))*(fft.real**2+fft.imag**2)\n",
    "    psd_ax.set_title(prefix+' PSD')\n",
    "    psd_ax.plot(freq,psd,color='blue',alpha=0.7)\n",
    "    psd_ax.set_xlim(left=-0.01)\n",
    "    "
   ]
  },
  {
   "cell_type": "code",
   "execution_count": null,
   "metadata": {},
   "outputs": [],
   "source": [
    "fig,axes=plt.subplots(len(var_columns),2,figsize=(8,3*len(var_columns)))\n",
    "\n",
    "for ax,column in zip (axes,var_columns):\n",
    "    fourier_analysis(train_data[column],ax[0],ax[1],prefix=column)\n",
    "plt.tight_layout()"
   ]
  },
  {
   "cell_type": "markdown",
   "metadata": {},
   "source": [
    "Looking the fft of each class, since showed before, there are three continuos periods in data"
   ]
  },
  {
   "cell_type": "code",
   "execution_count": null,
   "metadata": {},
   "outputs": [],
   "source": [
    "fig,axes=plt.subplots(len(var_columns),6,figsize=(16,3*len(var_columns)))\n",
    "\n",
    "for ax,column in zip (axes,var_columns):\n",
    "    grouped=train_data.groupby('Class')\n",
    "    for groupd_index,(key,group) in enumerate(grouped):\n",
    "        data=grouped.get_group(key)[column]\n",
    "        fourier_analysis(data,ax[groupd_index*2],ax[groupd_index*2+1],prefix=f'{key} - {column}')\n",
    "plt.tight_layout()"
   ]
  },
  {
   "attachments": {},
   "cell_type": "markdown",
   "metadata": {},
   "source": [
    "spectogram"
   ]
  },
  {
   "cell_type": "code",
   "execution_count": null,
   "metadata": {},
   "outputs": [],
   "source": [
    "def spectogram_analysis(data,ax,prefix=''):\n",
    "    f, t, Sxx = signal.spectrogram(data, 1)\n",
    "    im=ax.pcolormesh(t, f, Sxx, shading='gouraud')\n",
    "    ax.set_ylabel('Frequency [Hz]')\n",
    "    ax.set_xlabel('Time [sec]')\n",
    "    ax.set_title(prefix)\n",
    "    plt.colorbar(im,ax=ax)"
   ]
  },
  {
   "cell_type": "code",
   "execution_count": null,
   "metadata": {},
   "outputs": [],
   "source": [
    "fig,axes=plt.subplots(len(var_columns),4,figsize=(16,2*len(var_columns)))\n",
    "\n",
    "for ax,column in zip (axes,var_columns):\n",
    "    data=train_data[column]\n",
    "    spectogram_analysis(data,ax[0],f'All classes - {column}')\n",
    "    grouped=train_data.groupby('Class')\n",
    "    for groupd_index,(key,group) in enumerate(grouped):\n",
    "        data=group[column]\n",
    "        spectogram_analysis(data,ax[groupd_index+1],prefix=f'{key} - {column}')\n",
    "plt.tight_layout()"
   ]
  },
  {
   "attachments": {},
   "cell_type": "markdown",
   "metadata": {},
   "source": [
    "#### Test data - The previus analysys was replicated"
   ]
  },
  {
   "cell_type": "code",
   "execution_count": null,
   "metadata": {},
   "outputs": [],
   "source": [
    "test_data=pd.read_csv(test_path)\n",
    "test_data.head(1)"
   ]
  },
  {
   "cell_type": "code",
   "execution_count": null,
   "metadata": {},
   "outputs": [],
   "source": [
    "test_data.describe()"
   ]
  },
  {
   "cell_type": "code",
   "execution_count": null,
   "metadata": {},
   "outputs": [],
   "source": [
    "test_data.isna().sum()"
   ]
  },
  {
   "cell_type": "code",
   "execution_count": null,
   "metadata": {},
   "outputs": [],
   "source": [
    "test_data=test_data.sort_values(by='Timestamp')"
   ]
  },
  {
   "cell_type": "code",
   "execution_count": null,
   "metadata": {},
   "outputs": [],
   "source": [
    "test_data.Timestamp.unique().shape"
   ]
  },
  {
   "attachments": {},
   "cell_type": "markdown",
   "metadata": {},
   "source": [
    "There are roughly 2 measurements per second"
   ]
  },
  {
   "cell_type": "code",
   "execution_count": null,
   "metadata": {},
   "outputs": [],
   "source": [
    "test_data.info()"
   ]
  },
  {
   "cell_type": "code",
   "execution_count": null,
   "metadata": {},
   "outputs": [],
   "source": [
    "test_data.Timestamp.value_counts().describe()"
   ]
  },
  {
   "cell_type": "markdown",
   "metadata": {},
   "source": [
    "It proves that there is not a single timestamp that is replicated many times."
   ]
  },
  {
   "cell_type": "code",
   "execution_count": null,
   "metadata": {},
   "outputs": [],
   "source": [
    "test_data.columns"
   ]
  },
  {
   "cell_type": "code",
   "execution_count": null,
   "metadata": {},
   "outputs": [],
   "source": [
    "test_data['Timestamp']=test_data['Timestamp'].astype('int')\n",
    "\n",
    "test_data['Class']=test_data['Class'].astype('category')\n",
    "test_data['class_code']=test_data['Class'].cat.codes"
   ]
  },
  {
   "cell_type": "code",
   "execution_count": null,
   "metadata": {},
   "outputs": [],
   "source": [
    "var_columns=['AccX','AccY','AccZ','GyroX','GyroY','GyroZ']\n",
    "label_columns=['class_code','Class']"
   ]
  },
  {
   "cell_type": "code",
   "execution_count": null,
   "metadata": {},
   "outputs": [],
   "source": [
    "index=(test_data.Timestamp.value_counts()>1).index\n",
    "measument1=test_data.set_index(test_data.Timestamp).drop_duplicates(keep='first',subset='Timestamp').loc[index,var_columns]\n",
    "measument2=test_data.set_index(test_data.Timestamp).drop_duplicates(keep='last',subset='Timestamp').loc[index,var_columns]\n",
    "diff=measument1-measument2\n",
    "fig,axes=plt.subplots(1,len(var_columns),figsize=(10,6))\n",
    "for column,ax in zip(var_columns,axes.flatten()):    \n",
    "    sns.boxplot(data=diff,y=column,ax=ax)\n",
    "plt.tight_layout()"
   ]
  },
  {
   "cell_type": "code",
   "execution_count": null,
   "metadata": {},
   "outputs": [],
   "source": [
    "index=(test_data.Timestamp.value_counts()>1).index\n",
    "measument1=test_data.set_index(test_data.Timestamp).drop_duplicates(keep='first',subset='Timestamp').loc[index,var_columns]\n",
    "measument2=test_data.set_index(test_data.Timestamp).drop_duplicates(keep='last',subset='Timestamp').loc[index,var_columns]\n",
    "diff=(measument1-measument2)/0.5*(measument2+measument1)\n",
    "fig,axes=plt.subplots(1,len(var_columns),figsize=(10,6))\n",
    "for column,ax in zip(var_columns,axes.flatten()):    \n",
    "    sns.boxplot(data=diff,y=column,ax=ax)\n",
    "plt.tight_layout()"
   ]
  },
  {
   "cell_type": "code",
   "execution_count": null,
   "metadata": {},
   "outputs": [],
   "source": [
    "index=(test_data.Timestamp.value_counts()>1).index\n",
    "measument1=test_data.set_index(test_data.Timestamp).drop_duplicates(keep='first',subset='Timestamp').loc[index,var_columns]\n",
    "measument2=test_data.set_index(test_data.Timestamp).drop_duplicates(keep='last',subset='Timestamp').loc[index,var_columns]\n",
    "diff=(measument1-measument2)/0.5*(measument2+measument1)\n",
    "diff=diff.reset_index().merge(test_data.drop_duplicates('Timestamp')[['Timestamp','Class']],right_on='Timestamp',left_on='index')\n",
    "used_columns=[column for column in var_columns if 'Acc' in column]\n",
    "fig,axes=plt.subplots(1,len(used_columns),figsize=(10,6))\n",
    "for column,ax in zip(used_columns,axes.flatten()):\n",
    "    sns.boxplot(data=diff,y=column,ax=ax,x='Class')\n",
    "plt.tight_layout()"
   ]
  },
  {
   "attachments": {},
   "cell_type": "markdown",
   "metadata": {},
   "source": [
    "level of agreeament\n",
    "\n",
    "[1]Bland, J. Martin, and DouglasG Altman. \"Statistical methods for assessing agreement between two methods of clinical measurement.\" The lancet 327.8476 (1986): 307-310.\n"
   ]
  },
  {
   "cell_type": "code",
   "execution_count": null,
   "metadata": {},
   "outputs": [],
   "source": [
    "index=(test_data.Timestamp.value_counts()>1).index\n",
    "measument1=test_data.set_index(test_data.Timestamp).drop_duplicates(keep='first',subset='Timestamp').loc[index,var_columns]\n",
    "measument2=test_data.set_index(test_data.Timestamp).drop_duplicates(keep='last',subset='Timestamp').loc[index,var_columns]\n",
    "diff=measument1-measument2\n",
    "mean=(measument1+measument2)*0.5\n",
    "used_columns=[column for column in var_columns if 'Acc' in column]\n",
    "fig,axes=plt.subplots(len(used_columns),1,figsize=(10,6),sharex=True)\n",
    "for column,ax in zip(used_columns,axes.flatten()):    \n",
    "    ax.scatter(x=mean[column],y=diff[column])\n",
    "    ax.hlines(np.mean(diff[column])+2*np.std(diff[column]),mean[used_columns].min().min(),mean[used_columns].max().max(),linestyles='dashed',color='black')\n",
    "    ax.hlines(np.mean(diff[column])-2*np.std(diff[column]),mean[used_columns].min().min(),mean[used_columns].max().max(),linestyles='dashed',color='black')\n",
    "plt.tight_layout()\n"
   ]
  },
  {
   "cell_type": "code",
   "execution_count": null,
   "metadata": {},
   "outputs": [],
   "source": [
    "index=(test_data.Timestamp.value_counts()>1).index\n",
    "measument1=test_data.set_index(test_data.Timestamp).drop_duplicates(keep='first',subset='Timestamp').loc[index,var_columns]\n",
    "measument2=test_data.set_index(test_data.Timestamp).drop_duplicates(keep='last',subset='Timestamp').loc[index,var_columns]\n",
    "diff=measument1-measument2\n",
    "mean=(np.abs(measument1)+np.abs(measument2))*0.5\n",
    "used_columns=[column for column in var_columns if 'Acc' in column]\n",
    "fig,axes=plt.subplots(len(used_columns),1,figsize=(10,6),sharex=True)\n",
    "for column,ax in zip(used_columns,axes.flatten()):    \n",
    "    ax.scatter(x=mean[column],y=diff[column])\n",
    "\n",
    "plt.tight_layout()\n"
   ]
  },
  {
   "attachments": {},
   "cell_type": "markdown",
   "metadata": {},
   "source": [
    "Adding new features."
   ]
  },
  {
   "cell_type": "code",
   "execution_count": null,
   "metadata": {},
   "outputs": [],
   "source": [
    "test_data['Acc_mod']=0.5*(test_data['AccX']**2+test_data['AccY']**2+test_data['AccZ']**2)\n",
    "var_columns.append('Acc_mod')"
   ]
  },
  {
   "attachments": {},
   "cell_type": "markdown",
   "metadata": {},
   "source": [
    "Dataset balance"
   ]
  },
  {
   "cell_type": "code",
   "execution_count": null,
   "metadata": {},
   "outputs": [],
   "source": [
    "test_data['Class'].value_counts(normalize=True).plot(kind='bar')"
   ]
  },
  {
   "attachments": {},
   "cell_type": "markdown",
   "metadata": {},
   "source": [
    "Data aumentation"
   ]
  },
  {
   "cell_type": "code",
   "execution_count": null,
   "metadata": {},
   "outputs": [],
   "source": [
    "missing_seconds=set(test_data['Timestamp'].unique()).difference(set(range(test_data['Timestamp'].min(),test_data['Timestamp'].max()+1)))\n",
    "missing_seconds"
   ]
  },
  {
   "attachments": {},
   "cell_type": "markdown",
   "metadata": {},
   "source": [
    "With this we ensure the signal continuity"
   ]
  },
  {
   "attachments": {},
   "cell_type": "markdown",
   "metadata": {},
   "source": [
    "Observing the data as a signal"
   ]
  },
  {
   "cell_type": "code",
   "execution_count": null,
   "metadata": {},
   "outputs": [],
   "source": [
    "fig,axes=plt.subplots(len(var_columns),1,figsize=(8,3*len(var_columns)))\n",
    "\n",
    "for ax,column in zip (axes.flatten(),var_columns):\n",
    "    grouped=test_data.groupby('Class')\n",
    "    color={'SLOW':'green','NORMAL':'blue','AGGRESSIVE':'red'}\n",
    "    for key,group in grouped:\n",
    "        group.plot(ax=ax,x='Timestamp',y=column,label=key,color=color[key])\n",
    "    ax.set_title(column)\n",
    "plt.tight_layout()"
   ]
  },
  {
   "attachments": {},
   "cell_type": "markdown",
   "metadata": {},
   "source": [
    "FFT"
   ]
  },
  {
   "cell_type": "code",
   "execution_count": null,
   "metadata": {},
   "outputs": [],
   "source": [
    "fig,axes=plt.subplots(len(var_columns),2,figsize=(8,3*len(var_columns)))\n",
    "\n",
    "for ax,column in zip (axes,var_columns):\n",
    "    fourier_analysis(test_data[column],ax[0],ax[1],prefix=column)\n",
    "plt.tight_layout()"
   ]
  },
  {
   "cell_type": "markdown",
   "metadata": {},
   "source": [
    "Looking the fft of each class, since showed before, there are three continuos periods in data"
   ]
  },
  {
   "cell_type": "code",
   "execution_count": null,
   "metadata": {},
   "outputs": [],
   "source": [
    "fig,axes=plt.subplots(len(var_columns),6,figsize=(16,3*len(var_columns)))\n",
    "\n",
    "for ax,column in zip (axes,var_columns):\n",
    "    grouped=test_data.groupby('Class')\n",
    "    for groupd_index,(key,group) in enumerate(grouped):\n",
    "        data=grouped.get_group(key)[column]\n",
    "        fourier_analysis(data,ax[groupd_index*2],ax[groupd_index*2+1],prefix=f'{key} - {column}')\n",
    "plt.tight_layout()"
   ]
  },
  {
   "attachments": {},
   "cell_type": "markdown",
   "metadata": {},
   "source": [
    "spectogram"
   ]
  },
  {
   "cell_type": "code",
   "execution_count": null,
   "metadata": {},
   "outputs": [],
   "source": [
    "def spectogram_analysis(data,ax,prefix=''):\n",
    "    f, t, Sxx = signal.spectrogram(data, 1)\n",
    "    im=ax.pcolormesh(t, f, Sxx, shading='gouraud')\n",
    "    ax.set_ylabel('Frequency [Hz]')\n",
    "    ax.set_xlabel('Time [sec]')\n",
    "    ax.set_title(prefix)\n",
    "    plt.colorbar(im,ax=ax)"
   ]
  },
  {
   "cell_type": "code",
   "execution_count": null,
   "metadata": {},
   "outputs": [],
   "source": [
    "fig,axes=plt.subplots(len(var_columns),4,figsize=(16,2*len(var_columns)))\n",
    "\n",
    "for ax,column in zip (axes,var_columns):\n",
    "    data=test_data[column]\n",
    "    spectogram_analysis(data,ax[0],f'All classes - {column}')\n",
    "    grouped=test_data.groupby('Class')\n",
    "    for groupd_index,(key,group) in enumerate(grouped):\n",
    "        data=group[column]\n",
    "        spectogram_analysis(data,ax[groupd_index+1],prefix=f'{key} - {column}')\n",
    "plt.tight_layout()"
   ]
  },
  {
   "attachments": {},
   "cell_type": "markdown",
   "metadata": {},
   "source": [
    "### Data processing to aplly AI"
   ]
  },
  {
   "attachments": {},
   "cell_type": "markdown",
   "metadata": {},
   "source": [
    "The input data should be a sequence of seconds, since the acceleration of a given seconds does not provide enough information about the driving beahaviour"
   ]
  },
  {
   "cell_type": "code",
   "execution_count": null,
   "metadata": {},
   "outputs": [],
   "source": [
    "def create_sequences(sequence_size,class_column,classes_key:list,df):\n",
    "    X=[]\n",
    "    Y=[]\n",
    "    for key in classes_key:\n",
    "        \n",
    "        train_class=df[df[class_column]==key]    \n",
    "        size=len(train_class)//sequence_size*sequence_size\n",
    "        X_temp=train_class[var_columns.copy()].values[:size].reshape(-1,sequence_size,len(var_columns))\n",
    "        Y_temp=np.array([key]*len(X)).reshape(-1,1)\n",
    "        if len(X)!=0:\n",
    "            X=np.vstack((X,X_temp))\n",
    "            Y=np.vstack((Y,Y_temp))\n",
    "        else:\n",
    "            X=X_temp\n",
    "            Y=Y_temp\n",
    "    return X,Y"
   ]
  },
  {
   "cell_type": "code",
   "execution_count": null,
   "metadata": {},
   "outputs": [],
   "source": [
    "X_train_sequece,Y_train_sequece=create_sequences(3,'class_code',[0,1,2],train_data)\n",
    "X_test_sequence,Y_test_sequece=create_sequences(3,'class_code',[0,1,2],test_data)"
   ]
  },
  {
   "attachments": {},
   "cell_type": "markdown",
   "metadata": {},
   "source": [
    "### Models"
   ]
  },
  {
   "cell_type": "code",
   "execution_count": null,
   "metadata": {},
   "outputs": [],
   "source": []
  },
  {
   "cell_type": "code",
   "execution_count": null,
   "metadata": {},
   "outputs": [],
   "source": []
  }
 ],
 "metadata": {
  "kernelspec": {
   "display_name": "Python 3",
   "language": "python",
   "name": "python3"
  },
  "language_info": {
   "codemirror_mode": {
    "name": "ipython",
    "version": 3
   },
   "file_extension": ".py",
   "mimetype": "text/x-python",
   "name": "python",
   "nbconvert_exporter": "python",
   "pygments_lexer": "ipython3",
   "version": "3.7.8"
  },
  "orig_nbformat": 4,
  "vscode": {
   "interpreter": {
    "hash": "cac705f4ee24bcb73acdd8b9241d3bce8cf7d46d1c48a1c8f0ce576ed75e5a6c"
   }
  }
 },
 "nbformat": 4,
 "nbformat_minor": 2
}
